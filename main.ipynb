{
 "cells": [
  {
   "cell_type": "code",
   "execution_count": 2,
   "id": "comparative-japan",
   "metadata": {},
   "outputs": [],
   "source": [
    "import pandas as pd\n",
    "import numpy as np\n",
    "import statsmodels.api as sm\n",
    "import simfin as sf\n",
    "\n",
    "from collections import Counter\n",
    "import datetime\n",
    "\n",
    "from sklearn.model_selection import train_test_split\n",
    "from sklearn.impute import SimpleImputer\n",
    "from sklearn.preprocessing import StandardScaler\n",
    "from imblearn.over_sampling import RandomOverSampler,SMOTE,ADASYN\n",
    "from sklearn.pipeline import Pipeline\n",
    "\n",
    "from sklearn.linear_model import LogisticRegression\n",
    "from sklearn.naive_bayes import GaussianNB\n",
    "from sklearn.tree import DecisionTreeClassifier\n",
    "from sklearn.ensemble import RandomForestClassifier,RandomForestRegressor\n",
    "from sklearn.svm import LinearSVC, SVC\n",
    "from sklearn.neighbors import KNeighborsClassifier\n",
    "import xgboost as xgb\n",
    "\n",
    "from sklearn.metrics import roc_auc_score, confusion_matrix, roc_curve, accuracy_score,f1_score,fbeta_score,plot_roc_curve\n",
    "\n",
    "import seaborn as sns\n",
    "import matplotlib.pyplot as plt\n",
    "from mlxtend.plotting import plot_decision_regions"
   ]
  },
  {
   "cell_type": "code",
   "execution_count": 3,
   "id": "orange-bouquet",
   "metadata": {},
   "outputs": [],
   "source": [
    "#Define global variables\n",
    "crash_threshold = -2"
   ]
  },
  {
   "cell_type": "markdown",
   "id": "satisfactory-shame",
   "metadata": {},
   "source": [
    "### Main Data Import"
   ]
  },
  {
   "cell_type": "code",
   "execution_count": 4,
   "id": "fantastic-surrey",
   "metadata": {},
   "outputs": [],
   "source": [
    "# First: import the data for the test stock, and run the regression to find the alpha and alpha_t_test scores.\n",
    "stock_df = pd.read_csv('raw_data/us-shareprices-daily.csv',sep=';')\n",
    "ff_factors = pd.read_csv('raw_data/F-F_Research_Data_Factors.csv').rename({'Unnamed: 0':'Date'},axis=1)\n",
    "\n",
    "#Date Cleaning\n",
    "ff_factors['Date'] = pd.to_datetime(ff_factors['Date'],format='%Y%m')\n",
    "ff_factors['Year-Month'] = ff_factors['Date'].dt.to_period(\"M\")\n",
    "stock_df['Date'] = pd.to_datetime(stock_df['Date'])\n",
    "stock_df['Year-Month'] = stock_df['Date'].dt.to_period(\"M\")\n",
    "\n",
    "#Convert to a monthly dataframe\n",
    "monthly_stocks = stock_df.groupby(by=['Ticker','Year-Month'],axis=0).nth(0)\n",
    "monthly_stocks.reset_index(inplace=True)\n",
    "\n",
    "#Convert other metrics... Monthly Rates of return \n",
    "monthly_stocks['Avg Shares Outstanding'] = stock_df.groupby(['Ticker','Year-Month'],axis=0)[['Shares Outstanding']].mean().reset_index(drop=True)\n",
    "monthly_stocks['Avg Volume'] = stock_df.groupby(['Ticker','Year-Month'],axis=0)[['Volume']].mean().reset_index(drop=True)\n",
    "monthly_stocks['Prev Adj. Close'] = monthly_stocks.groupby('Ticker')['Adj. Close'].shift()\n",
    "monthly_stocks['Monthly Rate of Return'] =  (monthly_stocks['Adj. Close'])/(monthly_stocks['Prev Adj. Close'])-1\n",
    "monthly_stocks['Monthly Log Returns'] = (np.log(monthly_stocks['Adj. Close'] / monthly_stocks['Prev Adj. Close'] ))\n",
    "monthly_stocks['Monthly Std Dev'] = monthly_stocks.groupby('Ticker')[['Monthly Log Returns']].rolling(6,min_periods=1).std().reset_index(drop=True)\n",
    "\n",
    "#Check for a crash\n",
    "monthly_stocks['Crash Threshold'] = monthly_stocks['Monthly Std Dev']*crash_threshold\n",
    "monthly_stocks['Crash'] = False\n",
    "monthly_stocks.loc[ monthly_stocks['Monthly Log Returns'] <= monthly_stocks['Crash Threshold'],'Crash'] = True\n",
    "\n",
    "#Merge the ff factors with the monthly stocks dataset, and add two more metrics\n",
    "ff_merge = ff_factors.drop('Date',axis=1)\n",
    "monthly_w_factors = monthly_stocks.merge(ff_merge,how='left',on='Year-Month')\n",
    "monthly_w_factors['Monthly Excess Returns'] = monthly_w_factors['Monthly Rate of Return'] - monthly_w_factors['RF']\n",
    "\n",
    "#Create our final dataframe\n",
    "regression_df = monthly_w_factors.drop(['SimFinId','Open','Low','High','Close','Adj. Close','Dividend','Volume','Shares Outstanding','Prev Adj. Close'],axis=1)\n",
    "regression_df = regression_df.dropna()"
   ]
  },
  {
   "cell_type": "markdown",
   "id": "strong-wonder",
   "metadata": {},
   "source": [
    "### Alternative data import"
   ]
  },
  {
   "cell_type": "code",
   "execution_count": 5,
   "id": "exempt-flavor",
   "metadata": {},
   "outputs": [],
   "source": [
    "income_df_t = pd.read_csv('raw_data/simfin_data/us-income-quarterly.csv',sep=';').reset_index()\n",
    "cf_df_t = pd.read_csv('raw_data/simfin_data/us-cashflow-quarterly.csv',sep=';').reset_index()\n",
    "bs_df_t = pd.read_csv('raw_data/simfin_data/us-balance-quarterly.csv',sep=';').reset_index()"
   ]
  },
  {
   "cell_type": "code",
   "execution_count": 6,
   "id": "facial-reggae",
   "metadata": {},
   "outputs": [],
   "source": [
    "#First, merge these three datasets together on year and quarter\n",
    "merge_df = income_df_t.merge(cf_df_t,how='inner',on=['Ticker','Fiscal Year','Fiscal Period'])\n",
    "merge_df_2 = merge_df.merge(bs_df_t,how='inner',on=['Ticker','Fiscal Year','Fiscal Period'])\n",
    "simfin_df = merge_df_2.loc[:,['Ticker','Fiscal Year','Fiscal Period','Revenue','Net Income','Net Change in Cash','Total Assets','Total Liabilities']]\n",
    "simfin_df = simfin_df.rename({'Fiscal Year':'Year','Fiscal Period':'Quarter'},axis=1)"
   ]
  },
  {
   "cell_type": "code",
   "execution_count": 7,
   "id": "effective-ghost",
   "metadata": {},
   "outputs": [],
   "source": [
    "#Merge the quarterly data based on the quarter of the stock information\n",
    "regression_df['Quarter'] = pd.DatetimeIndex(regression_df['Date']).quarter\n",
    "regression_df['Quarter'] = 'Q' + regression_df['Quarter'].astype(str)\n",
    "regression_df['Year'] = pd.DatetimeIndex(regression_df['Date']).year\n",
    "\n",
    "regression_df_merged =  regression_df.merge(simfin_df,on=['Ticker','Year','Quarter'],how='left')"
   ]
  },
  {
   "cell_type": "code",
   "execution_count": 8,
   "id": "fantastic-picnic",
   "metadata": {},
   "outputs": [],
   "source": [
    "reduced_reg_df = regression_df_merged.drop(['Date','Monthly Log Returns','Crash Threshold','Mkt-RF','SMB','HML','RF','Monthly Excess Returns','Quarter','Year'],axis=1)\n",
    "reduced_reg_df['Crash Next Period'] = reduced_reg_df.groupby('Ticker')[['Crash']].shift(-1)\n",
    "#reduced_reg_df = reduced_reg_df.groupby('Ticker').\n",
    "#reduced_reg_df = reduced_reg_df.drop(reduced_reg_df.groupby('Ticker').last(1).reset_index().index)]\n",
    "#x = reduced_reg_df.groupby('Ticker').last(1)\n",
    "#reduced_reg_df.groupby('Ticker').last(1).index"
   ]
  },
  {
   "cell_type": "code",
   "execution_count": 9,
   "id": "seventh-paragraph",
   "metadata": {},
   "outputs": [],
   "source": [
    "analysis_df = reduced_reg_df.drop(['Crash','Avg Shares Outstanding'],axis=1)"
   ]
  },
  {
   "cell_type": "code",
   "execution_count": 11,
   "id": "contemporary-discretion",
   "metadata": {},
   "outputs": [],
   "source": [
    "#Drop all rows where the target variable is missing\n",
    "analysis_df = analysis_df.loc[(analysis_df['Crash Next Period'].isna()==False),:]\n",
    "#Convert the target to a int variable\n",
    "analysis_df['Crash Next Period'] = analysis_df['Crash Next Period'].astype(int)"
   ]
  },
  {
   "cell_type": "code",
   "execution_count": 12,
   "id": "crude-guest",
   "metadata": {},
   "outputs": [
    {
     "data": {
      "text/plain": [
       "0    217511\n",
       "1      5906\n",
       "Name: Crash Next Period, dtype: int64"
      ]
     },
     "execution_count": 12,
     "metadata": {},
     "output_type": "execute_result"
    }
   ],
   "source": [
    "analysis_df['Crash Next Period'].value_counts()"
   ]
  },
  {
   "cell_type": "code",
   "execution_count": 13,
   "id": "textile-berlin",
   "metadata": {},
   "outputs": [
    {
     "data": {
      "text/html": [
       "<div>\n",
       "<style scoped>\n",
       "    .dataframe tbody tr th:only-of-type {\n",
       "        vertical-align: middle;\n",
       "    }\n",
       "\n",
       "    .dataframe tbody tr th {\n",
       "        vertical-align: top;\n",
       "    }\n",
       "\n",
       "    .dataframe thead th {\n",
       "        text-align: right;\n",
       "    }\n",
       "</style>\n",
       "<table border=\"1\" class=\"dataframe\">\n",
       "  <thead>\n",
       "    <tr style=\"text-align: right;\">\n",
       "      <th></th>\n",
       "      <th>Avg Volume</th>\n",
       "      <th>Monthly Rate of Return</th>\n",
       "      <th>Monthly Std Dev</th>\n",
       "      <th>Revenue</th>\n",
       "      <th>Net Income</th>\n",
       "      <th>Net Change in Cash</th>\n",
       "      <th>Total Assets</th>\n",
       "      <th>Total Liabilities</th>\n",
       "      <th>Crash Next Period</th>\n",
       "    </tr>\n",
       "  </thead>\n",
       "  <tbody>\n",
       "    <tr>\n",
       "      <th>count</th>\n",
       "      <td>223417.00</td>\n",
       "      <td>223417.00</td>\n",
       "      <td>223417.00</td>\n",
       "      <td>170467.00</td>\n",
       "      <td>173043.00</td>\n",
       "      <td>173043.00</td>\n",
       "      <td>173043.00</td>\n",
       "      <td>173043.00</td>\n",
       "      <td>223417.00</td>\n",
       "    </tr>\n",
       "    <tr>\n",
       "      <th>mean</th>\n",
       "      <td>2138691.57</td>\n",
       "      <td>0.03</td>\n",
       "      <td>0.11</td>\n",
       "      <td>1849425639.63</td>\n",
       "      <td>142909923.93</td>\n",
       "      <td>9321037.18</td>\n",
       "      <td>10855464111.32</td>\n",
       "      <td>6958178726.78</td>\n",
       "      <td>0.03</td>\n",
       "    </tr>\n",
       "    <tr>\n",
       "      <th>std</th>\n",
       "      <td>9363435.20</td>\n",
       "      <td>2.52</td>\n",
       "      <td>0.11</td>\n",
       "      <td>6311051380.60</td>\n",
       "      <td>733062188.96</td>\n",
       "      <td>886899364.02</td>\n",
       "      <td>35264559692.42</td>\n",
       "      <td>23920324860.79</td>\n",
       "      <td>0.16</td>\n",
       "    </tr>\n",
       "    <tr>\n",
       "      <th>min</th>\n",
       "      <td>0.00</td>\n",
       "      <td>-1.00</td>\n",
       "      <td>0.00</td>\n",
       "      <td>-81500000000.00</td>\n",
       "      <td>-25392000000.00</td>\n",
       "      <td>-50621000000.00</td>\n",
       "      <td>0.00</td>\n",
       "      <td>-2141441000.00</td>\n",
       "      <td>0.00</td>\n",
       "    </tr>\n",
       "    <tr>\n",
       "      <th>25%</th>\n",
       "      <td>158580.00</td>\n",
       "      <td>-0.05</td>\n",
       "      <td>0.06</td>\n",
       "      <td>83436000.00</td>\n",
       "      <td>-440000.00</td>\n",
       "      <td>-17991000.00</td>\n",
       "      <td>382020000.00</td>\n",
       "      <td>139505700.00</td>\n",
       "      <td>0.00</td>\n",
       "    </tr>\n",
       "    <tr>\n",
       "      <th>50%</th>\n",
       "      <td>567437.48</td>\n",
       "      <td>0.01</td>\n",
       "      <td>0.09</td>\n",
       "      <td>374238000.00</td>\n",
       "      <td>16977000.00</td>\n",
       "      <td>139738.00</td>\n",
       "      <td>1912727000.00</td>\n",
       "      <td>1031571000.00</td>\n",
       "      <td>0.00</td>\n",
       "    </tr>\n",
       "    <tr>\n",
       "      <th>75%</th>\n",
       "      <td>1788325.48</td>\n",
       "      <td>0.07</td>\n",
       "      <td>0.13</td>\n",
       "      <td>1279634000.00</td>\n",
       "      <td>91399500.00</td>\n",
       "      <td>24000000.00</td>\n",
       "      <td>7321897500.00</td>\n",
       "      <td>4437697000.00</td>\n",
       "      <td>0.00</td>\n",
       "    </tr>\n",
       "    <tr>\n",
       "      <th>max</th>\n",
       "      <td>959515857.14</td>\n",
       "      <td>724.00</td>\n",
       "      <td>5.84</td>\n",
       "      <td>141671000000.00</td>\n",
       "      <td>32551000000.00</td>\n",
       "      <td>54922000000.00</td>\n",
       "      <td>817729000000.00</td>\n",
       "      <td>662037000000.00</td>\n",
       "      <td>1.00</td>\n",
       "    </tr>\n",
       "  </tbody>\n",
       "</table>\n",
       "</div>"
      ],
      "text/plain": [
       "        Avg Volume  Monthly Rate of Return  Monthly Std Dev         Revenue  \\\n",
       "count    223417.00               223417.00        223417.00       170467.00   \n",
       "mean    2138691.57                    0.03             0.11   1849425639.63   \n",
       "std     9363435.20                    2.52             0.11   6311051380.60   \n",
       "min           0.00                   -1.00             0.00 -81500000000.00   \n",
       "25%      158580.00                   -0.05             0.06     83436000.00   \n",
       "50%      567437.48                    0.01             0.09    374238000.00   \n",
       "75%     1788325.48                    0.07             0.13   1279634000.00   \n",
       "max   959515857.14                  724.00             5.84 141671000000.00   \n",
       "\n",
       "           Net Income  Net Change in Cash    Total Assets  Total Liabilities  \\\n",
       "count       173043.00           173043.00       173043.00          173043.00   \n",
       "mean     142909923.93          9321037.18  10855464111.32      6958178726.78   \n",
       "std      733062188.96        886899364.02  35264559692.42     23920324860.79   \n",
       "min   -25392000000.00     -50621000000.00            0.00     -2141441000.00   \n",
       "25%        -440000.00        -17991000.00    382020000.00       139505700.00   \n",
       "50%       16977000.00           139738.00   1912727000.00      1031571000.00   \n",
       "75%       91399500.00         24000000.00   7321897500.00      4437697000.00   \n",
       "max    32551000000.00      54922000000.00 817729000000.00    662037000000.00   \n",
       "\n",
       "       Crash Next Period  \n",
       "count          223417.00  \n",
       "mean                0.03  \n",
       "std                 0.16  \n",
       "min                 0.00  \n",
       "25%                 0.00  \n",
       "50%                 0.00  \n",
       "75%                 0.00  \n",
       "max                 1.00  "
      ]
     },
     "execution_count": 13,
     "metadata": {},
     "output_type": "execute_result"
    }
   ],
   "source": [
    "#Data description\n",
    "pd.set_option('display.float_format', lambda x: '%.2f' % x)\n",
    "analysis_df.describe()"
   ]
  },
  {
   "cell_type": "markdown",
   "id": "identified-jersey",
   "metadata": {},
   "source": [
    "## Regression Analysis"
   ]
  },
  {
   "cell_type": "code",
   "execution_count": 15,
   "id": "acceptable-school",
   "metadata": {},
   "outputs": [],
   "source": [
    "#Split into training and testing datasets\n",
    "analysis_train,analysis_test = train_test_split(analysis_df,test_size=0.2,random_state=42)\n",
    "\n",
    "#Split again into training and validation datasets\n",
    "analysis_tr, analysis_val = train_test_split(analysis_train,test_size=0.25,random_state=41)"
   ]
  },
  {
   "cell_type": "code",
   "execution_count": 16,
   "id": "independent-cookbook",
   "metadata": {},
   "outputs": [
    {
     "name": "stdout",
     "output_type": "stream",
     "text": [
      "<class 'pandas.core.frame.DataFrame'>\n",
      "Int64Index: 134049 entries, 143057 to 210546\n",
      "Data columns (total 11 columns):\n",
      " #   Column                  Non-Null Count   Dtype    \n",
      "---  ------                  --------------   -----    \n",
      " 0   Ticker                  134049 non-null  object   \n",
      " 1   Year-Month              134049 non-null  period[M]\n",
      " 2   Avg Volume              134049 non-null  float64  \n",
      " 3   Monthly Rate of Return  134049 non-null  float64  \n",
      " 4   Monthly Std Dev         134049 non-null  float64  \n",
      " 5   Revenue                 102371 non-null  float64  \n",
      " 6   Net Income              103860 non-null  float64  \n",
      " 7   Net Change in Cash      103860 non-null  float64  \n",
      " 8   Total Assets            103860 non-null  float64  \n",
      " 9   Total Liabilities       103860 non-null  float64  \n",
      " 10  Crash Next Period       134049 non-null  int64    \n",
      "dtypes: float64(8), int64(1), object(1), period[M](1)\n",
      "memory usage: 12.3+ MB\n"
     ]
    }
   ],
   "source": [
    "analysis_tr.info()"
   ]
  },
  {
   "cell_type": "code",
   "execution_count": 17,
   "id": "chemical-bacteria",
   "metadata": {},
   "outputs": [],
   "source": [
    "X_train = analysis_tr.drop(['Crash Next Period','Ticker','Year-Month'],axis=1)\n",
    "y_train = analysis_tr['Crash Next Period']\n",
    "\n",
    "X_val = analysis_val.drop(['Crash Next Period','Ticker','Year-Month'],axis=1)\n",
    "y_val = analysis_val['Crash Next Period']"
   ]
  },
  {
   "cell_type": "code",
   "execution_count": 18,
   "id": "considered-vietnam",
   "metadata": {},
   "outputs": [
    {
     "data": {
      "text/plain": [
       "0    130549\n",
       "1      3500\n",
       "Name: Crash Next Period, dtype: int64"
      ]
     },
     "execution_count": 18,
     "metadata": {},
     "output_type": "execute_result"
    }
   ],
   "source": [
    "y_train.value_counts()"
   ]
  },
  {
   "cell_type": "code",
   "execution_count": 19,
   "id": "grateful-editing",
   "metadata": {},
   "outputs": [
    {
     "name": "stdout",
     "output_type": "stream",
     "text": [
      "<class 'pandas.core.frame.DataFrame'>\n",
      "Int64Index: 134049 entries, 143057 to 210546\n",
      "Data columns (total 8 columns):\n",
      " #   Column                  Non-Null Count   Dtype  \n",
      "---  ------                  --------------   -----  \n",
      " 0   Avg Volume              134049 non-null  float64\n",
      " 1   Monthly Rate of Return  134049 non-null  float64\n",
      " 2   Monthly Std Dev         134049 non-null  float64\n",
      " 3   Revenue                 102371 non-null  float64\n",
      " 4   Net Income              103860 non-null  float64\n",
      " 5   Net Change in Cash      103860 non-null  float64\n",
      " 6   Total Assets            103860 non-null  float64\n",
      " 7   Total Liabilities       103860 non-null  float64\n",
      "dtypes: float64(8)\n",
      "memory usage: 9.2 MB\n"
     ]
    }
   ],
   "source": [
    "X_train.info()"
   ]
  },
  {
   "cell_type": "code",
   "execution_count": 20,
   "id": "acoustic-finnish",
   "metadata": {
    "jupyter": {
     "source_hidden": true
    }
   },
   "outputs": [],
   "source": [
    "#Helper function for a confusion matrix heatmap\n",
    "def print_confusion_matrix(confusion_matrix, class_names, figsize = (10,7), fontsize=18):\n",
    "    \"\"\"Prints a confusion matrix, as returned by sklearn.metrics.confusion_matrix, as a heatmap.\n",
    "    \n",
    "    Arguments\n",
    "    ---------\n",
    "    confusion_matrix: numpy.ndarray\n",
    "        The numpy.ndarray object returned from a call to sklearn.metrics.confusion_matrix. \n",
    "        Similarly constructed ndarrays can also be used.\n",
    "    class_names: list\n",
    "        An ordered list of class names, in the order they index the given confusion matrix.\n",
    "    figsize: tuple\n",
    "        A 2-long tuple, the first value determining the horizontal size of the ouputted figure,\n",
    "        the second determining the vertical size. Defaults to (10,7).\n",
    "    fontsize: int\n",
    "        Font size for axes labels. Defaults to 14.\n",
    "        \n",
    "    Returns\n",
    "    -------\n",
    "    matplotlib.figure.Figure\n",
    "        The resulting confusion matrix figure\n",
    "    \"\"\"\n",
    "    df_cm = pd.DataFrame(confusion_matrix, index=class_names, columns=class_names, )\n",
    "    fig = plt.figure(figsize=figsize)\n",
    "    try:\n",
    "        heatmap = sns.heatmap(df_cm, annot=True, fmt=\"d\")\n",
    "    except ValueError:\n",
    "        raise ValueError(\"Confusion matrix values must be integers.\")\n",
    "    heatmap.yaxis.set_ticklabels(heatmap.yaxis.get_ticklabels(), rotation=0, ha='right', fontsize=fontsize)\n",
    "    heatmap.xaxis.set_ticklabels(heatmap.xaxis.get_ticklabels(), rotation=45, ha='right', fontsize=fontsize)\n",
    "    plt.ylabel('True label')\n",
    "    plt.xlabel('Predicted label')\n",
    "    return fig"
   ]
  },
  {
   "cell_type": "code",
   "execution_count": 21,
   "id": "suffering-petersburg",
   "metadata": {
    "jupyter": {
     "source_hidden": true
    }
   },
   "outputs": [],
   "source": [
    "#Helper function to impute a frame with mean values\n",
    "def df_impute(df):\n",
    "    imp_mean = SimpleImputer(missing_values=np.nan,strategy='mean')\n",
    "    df_imp = pd.DataFrame(imp_mean.fit_transform(df),columns=df.columns,index=df.index)\n",
    "    return df_imp"
   ]
  },
  {
   "cell_type": "markdown",
   "id": "revised-binary",
   "metadata": {},
   "source": [
    "#### Logistic"
   ]
  },
  {
   "cell_type": "code",
   "execution_count": 31,
   "id": "unnecessary-measure",
   "metadata": {},
   "outputs": [
    {
     "data": {
      "image/png": "[encoded data removed]",
      "text/plain": [
       "<Figure size 720x504 with 2 Axes>"
      ]
     },
     "metadata": {
      "needs_background": "light"
     },
     "output_type": "display_data"
    }
   ],
   "source": [
    "#Start with a simple logistic model to establish a baseline,\n",
    "X_t = df_impute(X_train)\n",
    "lm = LogisticRegression()\n",
    "lm.fit(X_t,y_train)\n",
    "\n",
    "X_v = df_impute(X_val)\n",
    "cm = print_confusion_matrix(confusion_matrix(y_val, lm.predict(X_v)), ['No Bubble', 'Bubble'])\n",
    "plt.title('Logistic')\n",
    "cm.savefig('figures/reg-logisitic.png')"
   ]
  },
  {
   "cell_type": "code",
   "execution_count": 32,
   "id": "discrete-reunion",
   "metadata": {},
   "outputs": [
    {
     "data": {
      "text/plain": [
       "0.971779607913347"
      ]
     },
     "execution_count": 32,
     "metadata": {},
     "output_type": "execute_result"
    }
   ],
   "source": [
    "accuracy_score(y_val, lm.predict(X_v))"
   ]
  },
  {
   "cell_type": "code",
   "execution_count": 33,
   "id": "crucial-tomato",
   "metadata": {},
   "outputs": [
    {
     "data": {
      "text/plain": [
       "0.5016545509873913"
      ]
     },
     "execution_count": 33,
     "metadata": {},
     "output_type": "execute_result"
    }
   ],
   "source": [
    "roc_auc_score(y_val, lm.predict(X_v))"
   ]
  },
  {
   "cell_type": "code",
   "execution_count": 34,
   "id": "musical-strand",
   "metadata": {},
   "outputs": [
    {
     "data": {
      "text/plain": [
       "0.009426551453260016"
      ]
     },
     "execution_count": 34,
     "metadata": {},
     "output_type": "execute_result"
    }
   ],
   "source": [
    "f1_score(y_val, lm.predict(X_v))"
   ]
  },
  {
   "cell_type": "code",
   "execution_count": 40,
   "id": "loaded-compiler",
   "metadata": {},
   "outputs": [],
   "source": [
    "#Use ADASYN Oversampling to account for the highly imbalanced dataset\n",
    "X_adasyn,y_adasyn = ADASYN(random_state=42).fit_sample(X_t,y_train)"
   ]
  },
  {
   "cell_type": "code",
   "execution_count": 41,
   "id": "rental-eleven",
   "metadata": {},
   "outputs": [
    {
     "data": {
      "image/png": "[encoded data removed]",
      "text/plain": [
       "<Figure size 720x504 with 2 Axes>"
      ]
     },
     "metadata": {
      "needs_background": "light"
     },
     "output_type": "display_data"
    }
   ],
   "source": [
    "#Logisitic\n",
    "lm2 = LogisticRegression()\n",
    "lm2.fit(X_adasyn,y_adasyn)\n",
    "\n",
    "y_pred = lm2.predict(X_v)\n",
    "\n",
    "cm = print_confusion_matrix(confusion_matrix(y_val, y_pred), ['No Bubble', 'Bubble'])\n",
    "plt.title('ADASYN Logistic')\n",
    "cm.savefig('figures/smote-logisitic.png')"
   ]
  },
  {
   "cell_type": "code",
   "execution_count": 42,
   "id": "adjacent-dublin",
   "metadata": {},
   "outputs": [
    {
     "data": {
      "text/plain": [
       "0.7740578283054337"
      ]
     },
     "execution_count": 42,
     "metadata": {},
     "output_type": "execute_result"
    }
   ],
   "source": [
    "accuracy_score(y_val, y_pred)"
   ]
  },
  {
   "cell_type": "code",
   "execution_count": 43,
   "id": "relevant-salad",
   "metadata": {},
   "outputs": [
    {
     "data": {
      "text/plain": [
       "0.5620469351148124"
      ]
     },
     "execution_count": 43,
     "metadata": {},
     "output_type": "execute_result"
    }
   ],
   "source": [
    "roc_auc_score(y_val, y_pred)"
   ]
  },
  {
   "cell_type": "code",
   "execution_count": 44,
   "id": "convenient-negative",
   "metadata": {},
   "outputs": [
    {
     "data": {
      "text/plain": [
       "0.07393138873601174"
      ]
     },
     "execution_count": 44,
     "metadata": {},
     "output_type": "execute_result"
    }
   ],
   "source": [
    "f1_score(y_val, y_pred)"
   ]
  },
  {
   "cell_type": "code",
   "execution_count": 45,
   "id": "above-picnic",
   "metadata": {},
   "outputs": [
    {
     "data": {
      "text/plain": [
       "0.5076546515998931"
      ]
     },
     "execution_count": 45,
     "metadata": {},
     "output_type": "execute_result"
    }
   ],
   "source": [
    "#Naive Bayes\n",
    "nb = GaussianNB()\n",
    "nb.fit(X_adasyn,y_adasyn)\n",
    "\n",
    "y_pred = nb.predict(X_v)\n",
    "roc_auc_score(y_val, y_pred)"
   ]
  },
  {
   "cell_type": "code",
   "execution_count": 46,
   "id": "latin-andrew",
   "metadata": {},
   "outputs": [
    {
     "data": {
      "text/plain": [
       "0.09081550443111629"
      ]
     },
     "execution_count": 46,
     "metadata": {},
     "output_type": "execute_result"
    }
   ],
   "source": [
    "accuracy_score(y_val, y_pred)"
   ]
  },
  {
   "cell_type": "code",
   "execution_count": 47,
   "id": "greek-keeping",
   "metadata": {},
   "outputs": [
    {
     "data": {
      "text/plain": [
       "0.052697850114256393"
      ]
     },
     "execution_count": 47,
     "metadata": {},
     "output_type": "execute_result"
    }
   ],
   "source": [
    "f1_score(y_val, y_pred)"
   ]
  },
  {
   "cell_type": "code",
   "execution_count": 48,
   "id": "returning-bhutan",
   "metadata": {},
   "outputs": [
    {
     "data": {
      "image/png": "[encoded data removed]",
      "text/plain": [
       "<Figure size 720x504 with 2 Axes>"
      ]
     },
     "metadata": {
      "needs_background": "light"
     },
     "output_type": "display_data"
    }
   ],
   "source": [
    "cm = print_confusion_matrix(confusion_matrix(y_val, y_pred), ['No Bubble', 'Bubble'])\n",
    "plt.title('ADASYN Naive Bayes')\n",
    "cm.savefig('figures/smote-nb.png')"
   ]
  },
  {
   "cell_type": "code",
   "execution_count": 60,
   "id": "original-iraqi",
   "metadata": {},
   "outputs": [
    {
     "name": "stderr",
     "output_type": "stream",
     "text": [
      "/Users/colinsalama/opt/anaconda3/lib/python3.8/site-packages/sklearn/svm/_base.py:976: ConvergenceWarning: Liblinear failed to converge, increase the number of iterations.\n",
      "  warnings.warn(\"Liblinear failed to converge, increase \"\n"
     ]
    }
   ],
   "source": [
    "#SVC\n",
    "scaler = StandardScaler()\n",
    "X_ada_scale = scaler.fit_transform(X_adasyn)\n",
    "\n",
    "model_svc = LinearSVC().fit(X_ada_scale, y_adasyn)"
   ]
  },
  {
   "cell_type": "code",
   "execution_count": 61,
   "id": "automated-stanford",
   "metadata": {},
   "outputs": [
    {
     "data": {
      "image/png": "[encoded data removed]",
      "text/plain": [
       "<Figure size 720x504 with 2 Axes>"
      ]
     },
     "metadata": {
      "needs_background": "light"
     },
     "output_type": "display_data"
    }
   ],
   "source": [
    "cm = print_confusion_matrix(confusion_matrix(y_val, y_pred), ['No Bubble', 'Bubble'])\n",
    "plt.title('ADASYN SVC')\n",
    "cm.savefig('figures/smote-svc.png')"
   ]
  },
  {
   "cell_type": "code",
   "execution_count": 55,
   "id": "musical-place",
   "metadata": {},
   "outputs": [
    {
     "data": {
      "text/plain": [
       "0.6331113042775127"
      ]
     },
     "execution_count": 55,
     "metadata": {},
     "output_type": "execute_result"
    }
   ],
   "source": [
    "y_pred = model_svc.predict(scaler.fit_transform(X_v))\n",
    "roc_auc_score(y_val, y_pred)"
   ]
  },
  {
   "cell_type": "code",
   "execution_count": 56,
   "id": "processed-cabinet",
   "metadata": {},
   "outputs": [
    {
     "data": {
      "text/plain": [
       "0.40730462805478473"
      ]
     },
     "execution_count": 56,
     "metadata": {},
     "output_type": "execute_result"
    }
   ],
   "source": [
    "accuracy_score(y_val, y_pred)"
   ]
  },
  {
   "cell_type": "code",
   "execution_count": 57,
   "id": "typical-impression",
   "metadata": {},
   "outputs": [
    {
     "data": {
      "text/plain": [
       "0.07275400882291157"
      ]
     },
     "execution_count": 57,
     "metadata": {},
     "output_type": "execute_result"
    }
   ],
   "source": [
    "f1_score(y_val, y_pred)"
   ]
  },
  {
   "cell_type": "code",
   "execution_count": 62,
   "id": "certified-editor",
   "metadata": {},
   "outputs": [
    {
     "data": {
      "text/plain": [
       "0.046940508891137774"
      ]
     },
     "execution_count": 62,
     "metadata": {},
     "output_type": "execute_result"
    }
   ],
   "source": [
    "fbeta_score(y_val, y_pred,beta=.5)"
   ]
  },
  {
   "cell_type": "code",
   "execution_count": 97,
   "id": "daily-character",
   "metadata": {},
   "outputs": [
    {
     "data": {
      "text/plain": [
       "0.624788976079532"
      ]
     },
     "execution_count": 97,
     "metadata": {},
     "output_type": "execute_result"
    }
   ],
   "source": [
    "#KNN\n",
    "neigh = KNeighborsClassifier(n_neighbors=5)\n",
    "neigh.fit(X_ada_scale, y_adasyn)\n"
   ]
  },
  {
   "cell_type": "code",
   "execution_count": 140,
   "id": "confidential-stewart",
   "metadata": {},
   "outputs": [
    {
     "data": {
      "text/plain": [
       "0.624788976079532"
      ]
     },
     "execution_count": 140,
     "metadata": {},
     "output_type": "execute_result"
    }
   ],
   "source": [
    "y_pred = neigh.predict(scaler.fit_transform(X_v))\n",
    "roc_auc_score(y_val, y_pred)"
   ]
  },
  {
   "cell_type": "code",
   "execution_count": 141,
   "id": "ambient-shoulder",
   "metadata": {},
   "outputs": [
    {
     "data": {
      "text/plain": [
       "0.5443783009578372"
      ]
     },
     "execution_count": 141,
     "metadata": {},
     "output_type": "execute_result"
    }
   ],
   "source": [
    "accuracy_score(y_val, y_pred)"
   ]
  },
  {
   "cell_type": "code",
   "execution_count": 142,
   "id": "found-safety",
   "metadata": {},
   "outputs": [
    {
     "data": {
      "text/plain": [
       "0.07673121400390004"
      ]
     },
     "execution_count": 142,
     "metadata": {},
     "output_type": "execute_result"
    }
   ],
   "source": [
    "f1_score(y_val, y_pred)"
   ]
  },
  {
   "cell_type": "code",
   "execution_count": 143,
   "id": "funny-grade",
   "metadata": {},
   "outputs": [
    {
     "name": "stderr",
     "output_type": "stream",
     "text": [
      "/Users/colinsalama/opt/anaconda3/lib/python3.8/site-packages/sklearn/utils/validation.py:67: FutureWarning: Pass beta=0.5 as keyword args. From version 0.25 passing these as positional arguments will result in an error\n",
      "  warnings.warn(\"Pass {} as keyword args. From version 0.25 \"\n"
     ]
    },
    {
     "data": {
      "text/plain": [
       "0.049983457011863686"
      ]
     },
     "execution_count": 143,
     "metadata": {},
     "output_type": "execute_result"
    }
   ],
   "source": [
    "fbeta_score(y_val, y_pred,beta=.5)"
   ]
  },
  {
   "cell_type": "code",
   "execution_count": 100,
   "id": "geographic-warner",
   "metadata": {},
   "outputs": [
    {
     "data": {
      "image/png": "[encoded data removed]",
      "text/plain": [
       "<Figure size 720x504 with 2 Axes>"
      ]
     },
     "metadata": {
      "needs_background": "light"
     },
     "output_type": "display_data"
    }
   ],
   "source": [
    "cm = print_confusion_matrix(confusion_matrix(y_val, y_pred), ['No Bubble', 'Bubble'])\n",
    "plt.title('ADASYN KNN')\n",
    "cm.savefig('figures/smote-knn.png')"
   ]
  },
  {
   "cell_type": "code",
   "execution_count": 130,
   "id": "collected-construction",
   "metadata": {},
   "outputs": [
    {
     "data": {
      "text/plain": [
       "0.6189253273146894"
      ]
     },
     "execution_count": 130,
     "metadata": {},
     "output_type": "execute_result"
    }
   ],
   "source": [
    "#Try Random Forest\n",
    "rf = RandomForestClassifier(n_estimators = 100, max_features = 3, n_jobs=-1)\n",
    "rf.fit(X_adasyn,y_adasyn)\n"
   ]
  },
  {
   "cell_type": "code",
   "execution_count": 161,
   "id": "micro-fight",
   "metadata": {},
   "outputs": [
    {
     "data": {
      "text/plain": [
       "0.6189253273146894"
      ]
     },
     "execution_count": 161,
     "metadata": {},
     "output_type": "execute_result"
    }
   ],
   "source": [
    "\n",
    "y_pred = rf.predict(X_v)\n",
    "roc_auc_score(y_val,y_pred )"
   ]
  },
  {
   "cell_type": "code",
   "execution_count": 162,
   "id": "dangerous-american",
   "metadata": {},
   "outputs": [
    {
     "data": {
      "text/plain": [
       "0.9149583743621879"
      ]
     },
     "execution_count": 162,
     "metadata": {},
     "output_type": "execute_result"
    }
   ],
   "source": [
    "accuracy_score(y_val,y_pred)"
   ]
  },
  {
   "cell_type": "code",
   "execution_count": 163,
   "id": "tropical-hardware",
   "metadata": {},
   "outputs": [
    {
     "data": {
      "text/plain": [
       "0.16114790286975716"
      ]
     },
     "execution_count": 163,
     "metadata": {},
     "output_type": "execute_result"
    }
   ],
   "source": [
    "f1_score(y_val,y_pred)"
   ]
  },
  {
   "cell_type": "code",
   "execution_count": 164,
   "id": "efficient-placement",
   "metadata": {},
   "outputs": [
    {
     "name": "stderr",
     "output_type": "stream",
     "text": [
      "/Users/colinsalama/opt/anaconda3/lib/python3.8/site-packages/sklearn/utils/validation.py:67: FutureWarning: Pass beta=0.5 as keyword args. From version 0.25 passing these as positional arguments will result in an error\n",
      "  warnings.warn(\"Pass {} as keyword args. From version 0.25 \"\n"
     ]
    },
    {
     "data": {
      "text/plain": [
       "0.12548129812981298"
      ]
     },
     "execution_count": 164,
     "metadata": {},
     "output_type": "execute_result"
    }
   ],
   "source": [
    "fbeta_score(y_val, y_pred,beta=.5)"
   ]
  },
  {
   "cell_type": "code",
   "execution_count": 165,
   "id": "original-nickel",
   "metadata": {},
   "outputs": [
    {
     "data": {
      "image/png": "[encoded data removed]",
      "text/plain": [
       "<Figure size 720x504 with 2 Axes>"
      ]
     },
     "metadata": {
      "needs_background": "light"
     },
     "output_type": "display_data"
    }
   ],
   "source": [
    "cm = print_confusion_matrix(confusion_matrix(y_val,y_pred), ['False', 'True'])\n",
    "plt.title('ADASYN Random Forest')\n",
    "cm.savefig('figures/smote-random-forest.png')"
   ]
  },
  {
   "cell_type": "code",
   "execution_count": 105,
   "id": "rational-antibody",
   "metadata": {},
   "outputs": [
    {
     "data": {
      "text/plain": [
       "0.6671751944506341"
      ]
     },
     "execution_count": 105,
     "metadata": {},
     "output_type": "execute_result"
    }
   ],
   "source": [
    "#Implement XGBoost\n",
    "#Create validation set of 25% size:\n",
    "X_bt,X_bv,y_bt, y_bv = train_test_split(X_adasyn,y_adasyn,test_size=0.25,random_state=43)\n",
    "\n",
    "gbm = xgb.XGBClassifier( \n",
    "        n_estimators=5000,\n",
    "        max_depth=4,\n",
    "        objective='binary:logistic', #new objective\n",
    "        use_label_encoder=False,\n",
    "        learning_rate=.05, \n",
    "        subsample=.8,\n",
    "        min_child_weight=3,\n",
    "        colsample_bytree=.8)\n",
    "eval_set = [ (X_bt,y_bt),(X_bv,y_bv) ]\n",
    "fit_model = gbm.fit(X_bt,y_bt,eval_set=eval_set,\n",
    "                eval_metric='logloss', #new evaluation metric: classification error (could also use AUC, e.g.)\n",
    "                early_stopping_rounds=50,\n",
    "                verbose=False)\n",
    "\n"
   ]
  },
  {
   "cell_type": "code",
   "execution_count": 166,
   "id": "brown-tomato",
   "metadata": {},
   "outputs": [
    {
     "data": {
      "text/plain": [
       "0.6671751944506341"
      ]
     },
     "execution_count": 166,
     "metadata": {},
     "output_type": "execute_result"
    }
   ],
   "source": [
    "y_pred = gbm.predict(X_v,ntree_limit=gbm.best_ntree_limit)\n",
    "roc_auc_score(y_val, y_pred)"
   ]
  },
  {
   "cell_type": "code",
   "execution_count": 167,
   "id": "indoor-teach",
   "metadata": {},
   "outputs": [
    {
     "data": {
      "text/plain": [
       "0.8294020230955151"
      ]
     },
     "execution_count": 167,
     "metadata": {},
     "output_type": "execute_result"
    }
   ],
   "source": [
    "accuracy_score(y_val, y_pred)"
   ]
  },
  {
   "cell_type": "code",
   "execution_count": 168,
   "id": "confused-submission",
   "metadata": {},
   "outputs": [
    {
     "data": {
      "text/plain": [
       "0.13424190800681435"
      ]
     },
     "execution_count": 168,
     "metadata": {},
     "output_type": "execute_result"
    }
   ],
   "source": [
    "f1_score(y_val, y_pred)"
   ]
  },
  {
   "cell_type": "code",
   "execution_count": 169,
   "id": "liked-volleyball",
   "metadata": {},
   "outputs": [
    {
     "name": "stderr",
     "output_type": "stream",
     "text": [
      "/Users/colinsalama/opt/anaconda3/lib/python3.8/site-packages/sklearn/utils/validation.py:67: FutureWarning: Pass beta=0.5 as keyword args. From version 0.25 passing these as positional arguments will result in an error\n",
      "  warnings.warn(\"Pass {} as keyword args. From version 0.25 \"\n"
     ]
    },
    {
     "data": {
      "text/plain": [
       "0.09338263177853623"
      ]
     },
     "execution_count": 169,
     "metadata": {},
     "output_type": "execute_result"
    }
   ],
   "source": [
    "fbeta_score(y_val, y_pred,beta=.5)"
   ]
  },
  {
   "cell_type": "code",
   "execution_count": 170,
   "id": "bearing-value",
   "metadata": {},
   "outputs": [
    {
     "data": {
      "image/png": "[encoded data removed]",
      "text/plain": [
       "<Figure size 720x504 with 2 Axes>"
      ]
     },
     "metadata": {
      "needs_background": "light"
     },
     "output_type": "display_data"
    }
   ],
   "source": [
    "cm = print_confusion_matrix(confusion_matrix(y_val, y_pred), ['False', 'True'])\n",
    "plt.title('ADASYN XGBoost')\n",
    "cm.savefig('figures/smote-xgb.png')"
   ]
  },
  {
   "cell_type": "code",
   "execution_count": 171,
   "id": "charming-clearance",
   "metadata": {},
   "outputs": [
    {
     "data": {
      "text/plain": [
       "<sklearn.metrics._plot.roc_curve.RocCurveDisplay at 0x7fef6b65a070>"
      ]
     },
     "execution_count": 171,
     "metadata": {},
     "output_type": "execute_result"
    },
    {
     "data": {
      "image/png": "[encoded data removed]",
      "text/plain": [
       "<Figure size 432x288 with 1 Axes>"
      ]
     },
     "metadata": {
      "needs_background": "light"
     },
     "output_type": "display_data"
    }
   ],
   "source": [
    "#ROC Curve\n",
    "plot_roc_curve(gbm,X_v, y_val)"
   ]
  },
  {
   "cell_type": "code",
   "execution_count": 110,
   "id": "invisible-corporation",
   "metadata": {},
   "outputs": [
    {
     "data": {
      "text/plain": [
       "<AxesSubplot:title={'center':'Feature importance'}, xlabel='F score', ylabel='Features'>"
      ]
     },
     "execution_count": 110,
     "metadata": {},
     "output_type": "execute_result"
    },
    {
     "data": {
      "image/png": "[encoded data removed]",
      "text/plain": [
       "<Figure size 432x288 with 1 Axes>"
      ]
     },
     "metadata": {
      "needs_background": "light"
     },
     "output_type": "display_data"
    }
   ],
   "source": [
    "xgb.plot_importance(gbm)"
   ]
  },
  {
   "cell_type": "code",
   "execution_count": 111,
   "id": "crude-homework",
   "metadata": {},
   "outputs": [],
   "source": [
    "#Using XGBoost on test data:\n",
    "y_pred = gbm.predict(X_v,ntree_limit=gbm.best_ntree_limit)\n"
   ]
  },
  {
   "cell_type": "markdown",
   "id": "interested-composite",
   "metadata": {},
   "source": [
    "## Final Model w Validation Data"
   ]
  },
  {
   "cell_type": "code",
   "execution_count": 172,
   "id": "failing-bulgaria",
   "metadata": {},
   "outputs": [],
   "source": [
    "X_train = analysis_train.drop(['Crash Next Period','Ticker','Year-Month'],axis=1)\n",
    "y_train = analysis_train['Crash Next Period']\n",
    "\n",
    "X_test = analysis_test.drop(['Crash Next Period','Ticker','Year-Month'],axis=1)\n",
    "y_test = analysis_test['Crash Next Period']\n",
    "\n",
    "X_t = df_impute(X_train)\n",
    "\n",
    "#Bootstrap\n",
    "X_adasyn,y_adasyn = ADASYN(random_state=44).fit_sample(X_t,y_train)"
   ]
  },
  {
   "cell_type": "code",
   "execution_count": 173,
   "id": "corrected-indie",
   "metadata": {},
   "outputs": [
    {
     "data": {
      "text/plain": [
       "RandomForestClassifier(max_features=3, n_jobs=-1)"
      ]
     },
     "execution_count": 173,
     "metadata": {},
     "output_type": "execute_result"
    }
   ],
   "source": [
    "rf = RandomForestClassifier(n_estimators = 100, max_features = 3, n_jobs=-1)\n",
    "rf.fit(X_adasyn,y_adasyn)"
   ]
  },
  {
   "cell_type": "code",
   "execution_count": 176,
   "id": "pointed-identity",
   "metadata": {},
   "outputs": [
    {
     "data": {
      "text/plain": [
       "0.6310724812014118"
      ]
     },
     "execution_count": 176,
     "metadata": {},
     "output_type": "execute_result"
    }
   ],
   "source": [
    "y_pred = rf.predict(df_impute(X_test))\n",
    "roc_auc_score(y_test,y_pred )"
   ]
  },
  {
   "cell_type": "code",
   "execution_count": 179,
   "id": "north-cleaning",
   "metadata": {},
   "outputs": [
    {
     "name": "stderr",
     "output_type": "stream",
     "text": [
      "/Users/colinsalama/opt/anaconda3/lib/python3.8/site-packages/sklearn/utils/validation.py:67: FutureWarning: Pass beta=0.5 as keyword args. From version 0.25 passing these as positional arguments will result in an error\n",
      "  warnings.warn(\"Pass {} as keyword args. From version 0.25 \"\n"
     ]
    },
    {
     "data": {
      "text/plain": [
       "0.1468604825415855"
      ]
     },
     "execution_count": 179,
     "metadata": {},
     "output_type": "execute_result"
    }
   ],
   "source": [
    "fbeta_score(y_test,y_pred,beta=.5)"
   ]
  },
  {
   "cell_type": "code",
   "execution_count": 185,
   "id": "finite-satin",
   "metadata": {},
   "outputs": [
    {
     "data": {
      "image/png": "[encoded data removed]",
      "text/plain": [
       "<Figure size 432x288 with 1 Axes>"
      ]
     },
     "metadata": {
      "needs_background": "light"
     },
     "output_type": "display_data"
    }
   ],
   "source": [
    "roc_plt = plot_roc_curve(rf,df_impute(X_test), y_test)\n",
    "plt.savefig('figures/random-forest-roc')"
   ]
  },
  {
   "cell_type": "code",
   "execution_count": 178,
   "id": "substantial-toner",
   "metadata": {},
   "outputs": [
    {
     "data": {
      "image/png": "[encoded data removed]",
      "text/plain": [
       "<Figure size 720x504 with 2 Axes>"
      ]
     },
     "metadata": {
      "needs_background": "light"
     },
     "output_type": "display_data"
    }
   ],
   "source": [
    "cm = print_confusion_matrix(confusion_matrix(y_test, y_pred), ['False', 'True'])\n",
    "plt.title('Random Forest ')\n",
    "cm.savefig('figures/random-forest-final.png')"
   ]
  },
  {
   "cell_type": "code",
   "execution_count": 188,
   "id": "enhanced-intake",
   "metadata": {},
   "outputs": [
    {
     "data": {
      "image/png": "[encoded data removed]",
      "text/plain": [
       "<Figure size 432x288 with 1 Axes>"
      ]
     },
     "metadata": {
      "needs_background": "light"
     },
     "output_type": "display_data"
    }
   ],
   "source": [
    "plt.barh(X_train.columns, rf.feature_importances_)\n",
    "plt.savefig('figures/feature-importance')"
   ]
  },
  {
   "cell_type": "markdown",
   "id": "absolute-climate",
   "metadata": {},
   "source": [
    "### Future Work"
   ]
  },
  {
   "cell_type": "code",
   "execution_count": 63,
   "id": "solar-curtis",
   "metadata": {},
   "outputs": [
    {
     "data": {
      "text/plain": [
       "\"def bubble_check(stock_df,test_threshold = 0.025):\\n\\n    X = stock_df[['Mkt-RF','Year-Month']]\\n    X = sm.add_constant(X)\\n    y = stock_df[['Monthly Rate of Return','Year-Month']]\\n\\n\\n    #t = X.loc[:,'Year-Month'].iloc[-1]\\n    #possible_break_periods = pd.date_range(start='1/1/2020',end=''  )   \\n\\n    possible_break_periods = X.loc[:,'Year-Month'].iloc[-60:-12]\\n    if len(possible_break_periods.values) == 0:\\n        return False\\n    #Check to make sure these periods aren't empty, and return if it is.\\n\\n    t_values = []\\n    p_values = []\\n\\n    #The following should range between 12 months ago and 60 months ago from the current period t.  Consider also varying t\\n    for break_period in possible_break_periods: \\n\\n        X['break_period'] = break_period\\n        X['struct_change'] = 0\\n        X.loc[ X['Year-Month'] > X['break_period'], 'struct_change'] = 1\\n        X_te = X.drop(['break_period','Year-Month'],axis=1)\\n        y_te = y.drop('Year-Month',axis=1)\\n\\n        model = sm.OLS(y_te,X_te,missing='drop')\\n        results = model.fit()\\n        r = np.zeros_like(results.params)\\n        r[2] = 1\\n        #Now add the t value and the p value of struct change to lists.\\n        #Then we need to maximize the t value for all of the possible dates we have.\\n        T_test = results.t_test(r)\\n        t_values.append(abs(T_test.tvalue))\\n        p_values.append(T_test.pvalue)\\n\\n    i = t_values.index(max(t_values))\\n    if p_values[i] < test_threshold:\\n        start_date = possible_break_periods.iloc[i]\\n        X.loc[:,'break_period'] = start_date\\n        y.loc[:,'break_period'] = start_date\\n        X_struct_test = X.loc[ X['Year-Month']>X['break_period'],:].drop(['Year-Month','break_period','struct_change'],axis=1)\\n        y_struct_test = y.loc[ y['Year-Month']>y['break_period'],:].drop(['Year-Month','break_period'],axis=1)\\n\\n        model = sm.OLS(y_struct_test,X_struct_test,missing='drop')\\n        results = model.fit()\\n        #Check if the alpha_2 is significant\\n        r = np.zeros_like(results.params)\\n        r[0] = 1\\n        T_test = results.t_test(r)\\n        if T_test.pvalue < test_threshold:\\n            #might be useful to return a full dataframe of all of the relevant information\\n            #return pd.DataFrame([],columns=['']) \\n            return True\\n    return False\\n\\n\\n    #If t test passes significance level, there is a bubble from the start_date to current time period.\\n\\n    #the t value on struct_change, and if that is under some test value, run a regression for just all values with struct_change = 1\\n    # and save \\n    \\nall_tickers = regression_df['Ticker'].unique()\\nbubble_bool = []\\n\\nfor ticker in all_tickers:\\n    temporary_stock = regression_df.loc[regression_df['Ticker'] == ticker]\\n    bubble_bool.append(bubble_check(temporary_stock))\\n    \\n    \\nmain_cat = pd.DataFrame({'Ticker':list(all_tickers),'Bubble':bubble_bool})\\n\\n#Save this data to a CSV\\nmain_cat.to_csv('raw_data/raw_bubble_data.csv',index=False)\\n\\n#Take a look at all of the positive bubble indicators\\nmain_cat.loc[main_cat['Bubble']==True,:]\\n    \\n\""
      ]
     },
     "execution_count": 63,
     "metadata": {},
     "output_type": "execute_result"
    }
   ],
   "source": [
    "# Alternate, more rigorous bubble test.  To be improved in the future.\n",
    "\n",
    "\n",
    "\"\"\"def bubble_check(stock_df,test_threshold = 0.025):\n",
    "\n",
    "    X = stock_df[['Mkt-RF','Year-Month']]\n",
    "    X = sm.add_constant(X)\n",
    "    y = stock_df[['Monthly Rate of Return','Year-Month']]\n",
    "\n",
    "\n",
    "    #t = X.loc[:,'Year-Month'].iloc[-1]\n",
    "    #possible_break_periods = pd.date_range(start='1/1/2020',end=''  )   \n",
    "\n",
    "    possible_break_periods = X.loc[:,'Year-Month'].iloc[-60:-12]\n",
    "    if len(possible_break_periods.values) == 0:\n",
    "        return False\n",
    "    #Check to make sure these periods aren't empty, and return if it is.\n",
    "\n",
    "    t_values = []\n",
    "    p_values = []\n",
    "\n",
    "    #The following should range between 12 months ago and 60 months ago from the current period t.  Consider also varying t\n",
    "    for break_period in possible_break_periods: \n",
    "\n",
    "        X['break_period'] = break_period\n",
    "        X['struct_change'] = 0\n",
    "        X.loc[ X['Year-Month'] > X['break_period'], 'struct_change'] = 1\n",
    "        X_te = X.drop(['break_period','Year-Month'],axis=1)\n",
    "        y_te = y.drop('Year-Month',axis=1)\n",
    "\n",
    "        model = sm.OLS(y_te,X_te,missing='drop')\n",
    "        results = model.fit()\n",
    "        r = np.zeros_like(results.params)\n",
    "        r[2] = 1\n",
    "        #Now add the t value and the p value of struct change to lists.\n",
    "        #Then we need to maximize the t value for all of the possible dates we have.\n",
    "        T_test = results.t_test(r)\n",
    "        t_values.append(abs(T_test.tvalue))\n",
    "        p_values.append(T_test.pvalue)\n",
    "\n",
    "    i = t_values.index(max(t_values))\n",
    "    if p_values[i] < test_threshold:\n",
    "        start_date = possible_break_periods.iloc[i]\n",
    "        X.loc[:,'break_period'] = start_date\n",
    "        y.loc[:,'break_period'] = start_date\n",
    "        X_struct_test = X.loc[ X['Year-Month']>X['break_period'],:].drop(['Year-Month','break_period','struct_change'],axis=1)\n",
    "        y_struct_test = y.loc[ y['Year-Month']>y['break_period'],:].drop(['Year-Month','break_period'],axis=1)\n",
    "\n",
    "        model = sm.OLS(y_struct_test,X_struct_test,missing='drop')\n",
    "        results = model.fit()\n",
    "        #Check if the alpha_2 is significant\n",
    "        r = np.zeros_like(results.params)\n",
    "        r[0] = 1\n",
    "        T_test = results.t_test(r)\n",
    "        if T_test.pvalue < test_threshold:\n",
    "            #might be useful to return a full dataframe of all of the relevant information\n",
    "            #return pd.DataFrame([],columns=['']) \n",
    "            return True\n",
    "    return False\n",
    "\n",
    "\n",
    "    #If t test passes significance level, there is a bubble from the start_date to current time period.\n",
    "\n",
    "    #the t value on struct_change, and if that is under some test value, run a regression for just all values with struct_change = 1\n",
    "    # and save \n",
    "    \n",
    "all_tickers = regression_df['Ticker'].unique()\n",
    "bubble_bool = []\n",
    "\n",
    "for ticker in all_tickers:\n",
    "    temporary_stock = regression_df.loc[regression_df['Ticker'] == ticker]\n",
    "    bubble_bool.append(bubble_check(temporary_stock))\n",
    "    \n",
    "    \n",
    "main_cat = pd.DataFrame({'Ticker':list(all_tickers),'Bubble':bubble_bool})\n",
    "\n",
    "#Save this data to a CSV\n",
    "main_cat.to_csv('raw_data/raw_bubble_data.csv',index=False)\n",
    "\n",
    "#Take a look at all of the positive bubble indicators\n",
    "main_cat.loc[main_cat['Bubble']==True,:]\n",
    "    \n",
    "\"\"\""
   ]
  },
  {
   "cell_type": "code",
   "execution_count": null,
   "id": "closing-wilderness",
   "metadata": {},
   "outputs": [],
   "source": []
  }
 ],
 "metadata": {
  "kernelspec": {
   "display_name": "Python 3",
   "language": "python",
   "name": "python3"
  },
  "language_info": {
   "codemirror_mode": {
    "name": "ipython",
    "version": 3
   },
   "file_extension": ".py",
   "mimetype": "text/x-python",
   "name": "python",
   "nbconvert_exporter": "python",
   "pygments_lexer": "ipython3",
   "version": "3.8.5"
  }
 },
 "nbformat": 4,
 "nbformat_minor": 5
}
